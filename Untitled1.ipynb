{
 "cells": [
  {
   "cell_type": "markdown",
   "id": "2cf00193-7ded-4bce-9a81-f8f88ccc4060",
   "metadata": {},
   "source": [
    "# My Jupyter Notebook on IBM Watson Studio"
   ]
  },
  {
   "cell_type": "markdown",
   "id": "e47fb4a0-306c-4fad-9020-ae50ecdb5906",
   "metadata": {},
   "source": [
    "**Paul Garcia**  \n",
    "Monte Carlo Dealer"
   ]
  },
  {
   "cell_type": "markdown",
   "id": "e12dbfdb-6274-4d4e-bb80-8780d6e30c6a",
   "metadata": {},
   "source": [
    "*I want to work in Data Science because it is a field that is very much in demand. I am also naturally interested in it.*"
   ]
  },
  {
   "cell_type": "markdown",
   "id": "919dcc1d-4c70-4694-aef5-68572dcc610e",
   "metadata": {},
   "source": [
    "### In the following cell, I will calculate net earnings from previous day."
   ]
  },
  {
   "cell_type": "code",
   "execution_count": 3,
   "id": "69141973-4954-42d5-b074-c3c827ffb1e9",
   "metadata": {},
   "outputs": [
    {
     "data": {
      "text/plain": [
       "320"
      ]
     },
     "execution_count": 3,
     "metadata": {},
     "output_type": "execute_result"
    }
   ],
   "source": [
    "((210-110)+(330-110))"
   ]
  },
  {
   "cell_type": "markdown",
   "id": "81c46a55-3e3f-408a-ab8c-591cfd593322",
   "metadata": {
    "tags": []
   },
   "source": [
    "So far I have made `320` dollars/day.\n",
    "*** \n",
    "More please?  \n",
    "1. 1000/day?  \n",
    "Inline-style: \n",
    "![alt text](https://github.com/adam-p/markdown-here/raw/master/src/common/images/icon48.png \"Logo Title Text 1\")"
   ]
  },
  {
   "cell_type": "code",
   "execution_count": null,
   "id": "13b9c453-ce5d-4ee3-b528-0061eb5a7534",
   "metadata": {},
   "outputs": [],
   "source": []
  }
 ],
 "metadata": {
  "kernelspec": {
   "display_name": "Python",
   "language": "python",
   "name": "conda-env-python-py"
  },
  "language_info": {
   "codemirror_mode": {
    "name": "ipython",
    "version": 3
   },
   "file_extension": ".py",
   "mimetype": "text/x-python",
   "name": "python",
   "nbconvert_exporter": "python",
   "pygments_lexer": "ipython3",
   "version": "3.7.12"
  }
 },
 "nbformat": 4,
 "nbformat_minor": 5
}
